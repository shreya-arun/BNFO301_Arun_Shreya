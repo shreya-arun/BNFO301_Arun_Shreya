{
  "nbformat": 4,
  "nbformat_minor": 0,
  "metadata": {
    "colab": {
      "provenance": [],
      "include_colab_link": true
    },
    "kernelspec": {
      "name": "python3",
      "display_name": "Python 3"
    },
    "language_info": {
      "name": "python"
    }
  },
  "cells": [
    {
      "cell_type": "markdown",
      "metadata": {
        "id": "view-in-github",
        "colab_type": "text"
      },
      "source": [
        "<a href=\"https://colab.research.google.com/github/shreya-arun/BNFO301_Arun_Shreya/blob/main/Week11_Arun_Shreya.ipynb\" target=\"_parent\"><img src=\"https://colab.research.google.com/assets/colab-badge.svg\" alt=\"Open In Colab\"/></a>"
      ]
    },
    {
      "cell_type": "markdown",
      "source": [
        "**LAB 8.1 Binding sites in genomes**\n",
        "\n",
        "Crtical regulation of biological functions occurs through binding of genomic DNA by proteins.  For example, in animals the protein HIF-1 binds many sites genome under hypoxic conditions.  The binding of HIF-1 regulates many cellular processes, including ecdysis in insects and response to heart-attack in humans.  Some protein binding sites can be complex, even discontiguous.  Many software applications have been developed to both identify novel candidate binding sites or search for known binding sites.  We will examine the latter today.  \n",
        "\n",
        "Simply finding a match to a binding site does not necessarily imply that the site is used by the protein.  For example, you may want to examine the frequency at which a search pattern occurs using simulations or search for landmarks that are associated with a 'real' binding site.\n",
        "\n",
        "This lab is builds on simple concepts you have used previously in 201 and 301, and provides you with code that you can adapt to use in group project 2.\n",
        "\n",
        "Total points 10.\n",
        "\n",
        "Problem 1.  Create a defintion to find all matches for the RNA polymerase binding site in a sequence and examine base frequences for sites 2-4 within the binding site. 4 points\n",
        "\n",
        "Problem 2.  Determine frequencies of A, T, C, and G in the sequence provided. 1 points\n",
        "\n",
        "Problem 3.  Simulate a sequence of equal length to the sequence provided, using the observed base frequencies. 4 points\n",
        "\n",
        "Problem 4.  Examine base frequences within RNA polymerase binding sites found in the simulated sequence. 1 points\n",
        "\n",
        "When completing this lab, you will be using packages numpy and re.  You will be introduced to relevent tools in numpy during the lab."
      ],
      "metadata": {
        "id": "fvx01nB1AJ-t"
      }
    },
    {
      "cell_type": "code",
      "execution_count": 1,
      "metadata": {
        "id": "68J2agBKAJE7"
      },
      "outputs": [],
      "source": [
        "#please run this box to load required packages and make the example sequence available for analysis\n",
        "import numpy as np\n",
        "import re\n",
        "ProvidedSequence = \"TATAATGTCAGTCAGTCAGTCAGTCATATAATGTCAGTCAGTCAGTCAGTCATATAATGTCAGTCAGTCAGTCAGTCATATAATGTCAGTCAGTCAGTCAGTCATATAATGTCAGTCAGTCAGTCAGTCATATAATGTCAGTCAGTCAGTCAGTCATATAATGTCAGTCAGTCAGTCAGTCATATAATGTCAGTCAGTCAGTCAGTCATATAATGTCAGTCAGTCAGTCAGTCATATAATGTCAGTCAGTCAGTCAGTCATAGGGTGTCAGTCAGTCAGTCAGTCATAGGGTGTCAGTCAGTCAGTCAGTCATACCCTGTCAGTCAGTCAGTCAGTCATACCCTGTCAGTCAGTCAGTCAGTCATAATTTGTCAGTCAGTCAGTCAGTCATAATTTGTCAGTCAGTCAGTCAGTCA\"\n"
      ]
    },
    {
      "cell_type": "markdown",
      "source": [
        "**Problem 1**\n",
        "\n",
        "The pribnow box binding box, 'TATAAT' is located ~10 base pairs upstream of the translation initiation site; this is where RNA polymerase binds. In this example, the first two and last sites in the box are conserved in the DNA sequence provided. The remaining sites in the box vary, but a biased towards 'TAA'. In this problem you will create definition that searches for the pribnow box and examins base frequences within the pribnow box. You should do this by creating a regex pattern that matches the binding motif, but allows for index 2-4 to vary between A, T, C and G"
      ],
      "metadata": {
        "id": "CDAWxXstCj2x"
      }
    },
    {
      "cell_type": "code",
      "source": [
        "########################################\n",
        "#\n",
        "# Create a definition that finds TATAAT matches within the data provided in box 1\n",
        "# Your definition should print the total number of matches and the frequency of each base at each index in the box\n",
        "#\n",
        "#########################################\n",
        "def printPribnowSummary(sequenceData):\n",
        "  #use re function\n",
        "  regex = re.compile('TA[ATCG]{3}T')\n",
        "  count = 0\n",
        "  matches = []\n",
        "  #step1: count\n",
        "  for match in re.findall(regex, sequenceData):\n",
        "    count += 1\n",
        "    matches.append(match)\n",
        "  print(\"Total matches\", len(matches))\n",
        "  print()\n",
        "  #step2: base frequencies\n",
        "  for i in range(len(matches[0])):\n",
        "    basecount = {'A':0 ,'T':0 ,'C':0 ,'G':0 }\n",
        "    for j in matches:\n",
        "       base = j[i]\n",
        "       basecount[base] += 1\n",
        "  #step3: print the frequency for each unique site\n",
        "    for k,v in basecount.items():\n",
        "      print(k, v/count)\n",
        "    print()\n",
        "\n",
        "\n",
        "########################################\n",
        "#\n",
        "#implement your defintion using the real data provided\n",
        "#\n",
        "#########################################\n",
        "\n",
        "printPribnowSummary(ProvidedSequence)"
      ],
      "metadata": {
        "colab": {
          "base_uri": "https://localhost:8080/"
        },
        "id": "eL1dNxy1DGQ0",
        "outputId": "4202f136-4593-4ac7-f2ea-c6dad738d47e"
      },
      "execution_count": 2,
      "outputs": [
        {
          "output_type": "stream",
          "name": "stdout",
          "text": [
            "Total matches 16\n",
            "\n",
            "A 0.0\n",
            "T 1.0\n",
            "C 0.0\n",
            "G 0.0\n",
            "\n",
            "A 1.0\n",
            "T 0.0\n",
            "C 0.0\n",
            "G 0.0\n",
            "\n",
            "A 0.125\n",
            "T 0.625\n",
            "C 0.125\n",
            "G 0.125\n",
            "\n",
            "A 0.625\n",
            "T 0.125\n",
            "C 0.125\n",
            "G 0.125\n",
            "\n",
            "A 0.625\n",
            "T 0.125\n",
            "C 0.125\n",
            "G 0.125\n",
            "\n",
            "A 0.0\n",
            "T 1.0\n",
            "C 0.0\n",
            "G 0.0\n",
            "\n"
          ]
        }
      ]
    },
    {
      "cell_type": "markdown",
      "source": [
        "**Problem 2**\n",
        "\n",
        "In the next problems we will examine base frequencies in Pribnow box index 2-4 using simulated sequences.  The first step is to create a definition to determine the base frequences in the real sequence."
      ],
      "metadata": {
        "id": "QR23djMFDxbc"
      }
    },
    {
      "cell_type": "code",
      "source": [
        "########################################\n",
        "#\n",
        "# Create a definition that returns the base frequencies from the sequence data given in box 1 as a dictionary\n",
        "# restrict your diction to include only A, T, C, and G (that is, ignore abiguity base codes)\n",
        "#\n",
        "#########################################\n",
        "def calculateFraction(genome):\n",
        "    A_count = 0\n",
        "    T_count = 0\n",
        "    C_count = 0\n",
        "    G_count = 0\n",
        "    for base in genome:\n",
        "        if base == 'A':\n",
        "            A_count += 1\n",
        "        elif base == 'T':\n",
        "            T_count += 1\n",
        "        elif base == 'C':\n",
        "            C_count += 1\n",
        "        elif base == 'G':\n",
        "            G_count += 1\n",
        "\n",
        "    # total count\n",
        "    total = A_count + T_count + C_count + G_count\n",
        "    basecount = { 'A': A_count / total, 'T': T_count / total,'C': C_count / total, 'G': G_count / total }\n",
        "\n",
        "    return basecount\n",
        "\n",
        "########################################\n",
        "#\n",
        "# test your definition using the \"ProvidedSequence\"\n",
        "#\n",
        "#########################################\n",
        "baseContent = calculateFraction(ProvidedSequence)\n",
        "print(baseContent)"
      ],
      "metadata": {
        "colab": {
          "base_uri": "https://localhost:8080/"
        },
        "id": "nXRKivczErZt",
        "outputId": "06738773-ddc8-4dee-8b20-533b11c97cab"
      },
      "execution_count": 3,
      "outputs": [
        {
          "output_type": "stream",
          "name": "stdout",
          "text": [
            "{'A': 0.28365384615384615, 'T': 0.30288461538461536, 'C': 0.20673076923076922, 'G': 0.20673076923076922}\n"
          ]
        }
      ]
    },
    {
      "cell_type": "markdown",
      "source": [
        "**Problem 3**\n",
        "\n",
        "Now let's simulate a sequence of equal length to the sequence provided, with similar base frquencies.  You will need to use functions available in the numpy package."
      ],
      "metadata": {
        "id": "JwyTbxkSE9vh"
      }
    },
    {
      "cell_type": "code",
      "source": [
        "########################################\n",
        "#\n",
        "# create a definition to simulate sequence data with base frequencies similar to the observed data\n",
        "# your defintion should return the simulated sequence\n",
        "#\n",
        "#########################################\n",
        "def simulateGenome(genome):\n",
        "  BasefreqDict = calculateFraction(genome)\n",
        "  genomeL = len(genome)\n",
        "  States = []\n",
        "  values = []\n",
        "  for k,v in BasefreqDict.items():\n",
        "    States.append(k)\n",
        "    values.append(v)\n",
        "  SimGenome = ''.join(np.random.choice(States, genomeL, values))\n",
        "  return SimGenome\n",
        "\n",
        "\n",
        "########################################\n",
        "#\n",
        "# test your definition and calculate base frequencies from the simulated data\n",
        "# note: the base fequeces may differ from the real data\n",
        "#\n",
        "#########################################\n",
        "newGenome = simulateGenome(ProvidedSequence)\n",
        "SimGenomebaseContent = calculateFraction(newGenome)\n",
        "print (SimGenomebaseContent)"
      ],
      "metadata": {
        "colab": {
          "base_uri": "https://localhost:8080/"
        },
        "id": "yaCPL0tqFPuj",
        "outputId": "7abe0928-2a58-45c7-ce5b-52cb72aa8c2e"
      },
      "execution_count": 4,
      "outputs": [
        {
          "output_type": "stream",
          "name": "stdout",
          "text": [
            "{'A': 0.25240384615384615, 'T': 0.22355769230769232, 'C': 0.25, 'G': 0.27403846153846156}\n"
          ]
        }
      ]
    },
    {
      "cell_type": "markdown",
      "source": [
        "**Problem 4**\n",
        "\n",
        "Finally, use your definitions from problems 1 and 3 to examine the pribnow box binding box in your simulated data."
      ],
      "metadata": {
        "id": "QHbUl4DQGcDf"
      }
    },
    {
      "cell_type": "code",
      "source": [
        "#############################################\n",
        "#\n",
        "# no need to create any new definitions here, simply simulate a seqeunce and calculate base frequencies for each index in the binding box\n",
        "#\n",
        "#############################################\n",
        "\n",
        "simulatedGenome = simulateGenome(ProvidedSequence)\n",
        "printPribnowSummary(simulatedGenome)\n",
        "\n",
        "\n",
        "\n"
      ],
      "metadata": {
        "colab": {
          "base_uri": "https://localhost:8080/"
        },
        "id": "J-fTuJXNG4h8",
        "outputId": "676487ca-974e-4941-9e6b-6fda9341ac1b"
      },
      "execution_count": 5,
      "outputs": [
        {
          "output_type": "stream",
          "name": "stdout",
          "text": [
            "Total matches 5\n",
            "\n",
            "A 0.0\n",
            "T 1.0\n",
            "C 0.0\n",
            "G 0.0\n",
            "\n",
            "A 1.0\n",
            "T 0.0\n",
            "C 0.0\n",
            "G 0.0\n",
            "\n",
            "A 0.8\n",
            "T 0.2\n",
            "C 0.0\n",
            "G 0.0\n",
            "\n",
            "A 0.6\n",
            "T 0.4\n",
            "C 0.0\n",
            "G 0.0\n",
            "\n",
            "A 0.4\n",
            "T 0.2\n",
            "C 0.4\n",
            "G 0.0\n",
            "\n",
            "A 0.0\n",
            "T 1.0\n",
            "C 0.0\n",
            "G 0.0\n",
            "\n"
          ]
        }
      ]
    },
    {
      "cell_type": "markdown",
      "source": [
        "Next week will expand on these concepts and you will also have time to ask questions about group project 2.  \n",
        "\n",
        "Have a good weekend!"
      ],
      "metadata": {
        "id": "Nr9nlOt7KAiL"
      }
    }
  ]
}