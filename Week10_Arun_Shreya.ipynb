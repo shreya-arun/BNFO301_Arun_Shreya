{
  "nbformat": 4,
  "nbformat_minor": 0,
  "metadata": {
    "colab": {
      "provenance": [],
      "include_colab_link": true
    },
    "kernelspec": {
      "name": "python3",
      "display_name": "Python 3"
    },
    "language_info": {
      "name": "python"
    }
  },
  "cells": [
    {
      "cell_type": "markdown",
      "metadata": {
        "id": "view-in-github",
        "colab_type": "text"
      },
      "source": [
        "<a href=\"https://colab.research.google.com/github/shreya-arun/BNFO301_Arun_Shreya/blob/main/Week10_Arun_Shreya.ipynb\" target=\"_parent\"><img src=\"https://colab.research.google.com/assets/colab-badge.svg\" alt=\"Open In Colab\"/></a>"
      ]
    },
    {
      "cell_type": "markdown",
      "source": [
        "##Lab 7. Phylogenetic tree inference using distance matrix methods.\n",
        "\n",
        "In this three part lab, you will infer a phylogenetic tree using a Distance Matrix Method.  This example uses one of a class of methods, which are statistically consistent, but sensitive to long-branch attraction.  In order to infer a tree, we must take several step, starting with sequences that have been aligned and are of equal length.  Next, we must find all pairwise distances and correct the distances using one of many models of subsitution.  Finally, we need to group sequence pairs and re-calculate distances, until all pairs have been grouped.  This grouping determines the order the tree, represented as a newick string.\n",
        "\n",
        "##Part 1. 10 points - March 14\n",
        "\n",
        "Problem 1.1 create a function to return P-distance\n",
        "\n",
        "Problem 1.2 create a function to return corrected P-distance using the Jukes-Cantor model.\n",
        "\n",
        "Problem 1.3 create a function to build a pairwise distance matrix\n",
        "\n",
        "Problem 1.4 create a function to find the pair of sequences with smallest distance, given the distance matrix from part 1.3\n",
        "\n",
        "##Part 2. 10 points - March 21\n",
        "\n",
        "Problem 2.1 create a function to merge the most similar sequences based on the corrected P-distances and shrink the matrix\n",
        "\n",
        "##Part 3. 10 points - March 28\n",
        "\n",
        "Problem 3.1 create a function to infer a phylogenetic tree\n",
        "\n",
        "Problem 3.2 create a function to read in a sequence alignment in phylip format\n",
        "\n",
        "Problem 3.3 use functions created in parts 1 and 2 to infer a phylogenetic tree given the data provided in the phylip file\n",
        "\n",
        "Problem 3.4 Answer questions about this tree"
      ],
      "metadata": {
        "id": "y89ThmMC8vIl"
      }
    },
    {
      "cell_type": "code",
      "execution_count": null,
      "metadata": {
        "id": "azPwaTFL8sRq"
      },
      "outputs": [],
      "source": [
        "import math"
      ]
    },
    {
      "cell_type": "markdown",
      "source": [
        "Problem 1.1 Create function to calculate a P-distance given two sequences"
      ],
      "metadata": {
        "id": "B7SNPmSI88db"
      }
    },
    {
      "cell_type": "code",
      "source": [
        "#####################\n",
        "#\n",
        "#create a definition called \"PDistance\" that returns an uncorrected P-distance given two sequences\n",
        "#your function should first check that sequences are of the same length, else return helpful error message (use keyword assert)\n",
        "#recall that P-distance is the Hamming-distance / length of the alignment\n",
        "#\n",
        "#####################\n",
        "\n",
        "def PDistance(x, y):\n",
        "\tassert len(x) == len(y), 'sequences must be of equal length'\n",
        "\tcounter = 0.0\n",
        "\tfor i in range(len(x)):\n",
        "\t\tif (x[i] != y[i]):\n",
        "\t\t\tcounter += 1\n",
        "\tPdist = counter/len(x)\n",
        "\treturn Pdist\n",
        "\n",
        "#####################\n",
        "#\n",
        "#use these two sequences to test your function;\n",
        "#P-distance = 0.2\n",
        "#\n",
        "######################\n",
        "\n",
        "seq1a = \"TATAGTAAAA\"\n",
        "seq2a = \"TATAGTATTA\"\n",
        "Dist_Problem1_1 = PDistance(seq1a, seq2a)\n",
        "print(Dist_Problem1_1)"
      ],
      "metadata": {
        "colab": {
          "base_uri": "https://localhost:8080/"
        },
        "id": "NDd8qvMZ9D6A",
        "outputId": "b3784dd2-17e2-4b6f-d4dc-8267b522784f"
      },
      "execution_count": null,
      "outputs": [
        {
          "output_type": "stream",
          "name": "stdout",
          "text": [
            "0.2\n"
          ]
        }
      ]
    },
    {
      "cell_type": "markdown",
      "source": [
        "Problem 1.2. Create a function to correct the P-distance using the Jukes-Cantor model"
      ],
      "metadata": {
        "id": "q1ncczh_9Q4j"
      }
    },
    {
      "cell_type": "code",
      "source": [
        "#####################\n",
        "#\n",
        "#create a definition called \"JCdistance\" that returns a corrected P-distance given two sequences using the Jukes Cantor model\n",
        "#recal, Jukes Cantor was described in class is a simple correction of P-distance\n",
        "#Hint: use function created in problem 1.1, \"PDistance\", to simplfly your code\n",
        "#\n",
        "#####################\n",
        "\n",
        "def JCdistance(x, y):\n",
        "  uncorrectedDist = PDistance(x, y)\n",
        "  if (uncorrectedDist != 0):\n",
        "    correctdist = (-3/4)*math.log(1-(4/3)*uncorrectedDist)\n",
        "  else:\n",
        "    correctdist = 0.0\n",
        "  return (correctdist)\n",
        "\n",
        "#####################\n",
        "#\n",
        "#use these two sequences to test your function;\n",
        "#Corrected P-distance = 0.2326161962278796\n",
        "#\n",
        "######################\n",
        "\n",
        "seq1b = \"TATAGTTAAA\"\n",
        "seq2b = \"TATAGTTTTA\"\n",
        "JCdist_Problem1_2 = JCdistance(seq1b, seq2b)\n",
        "print(JCdist_Problem1_2)"
      ],
      "metadata": {
        "colab": {
          "base_uri": "https://localhost:8080/"
        },
        "id": "aUszJJQ49RxI",
        "outputId": "aeb8e302-9f17-429f-ded3-832764d9d915"
      },
      "execution_count": null,
      "outputs": [
        {
          "output_type": "stream",
          "name": "stdout",
          "text": [
            "0.2326161962278796\n"
          ]
        }
      ]
    },
    {
      "cell_type": "markdown",
      "source": [
        "Problem 1.3. Create a function to store distances between sequence pairs as a multidimentionsal dictionary.  You are required to use the Jukes Cantor corrected P-distance when building the dictionary.\n",
        "\n"
      ],
      "metadata": {
        "id": "-vdH854092s9"
      }
    },
    {
      "cell_type": "code",
      "source": [
        "#####################\n",
        "#\n",
        "#create a definition called \"DistanceMatrix\" that returns a dictionary given a set of DNA or AA sequences\n",
        "#Input data: a dictionary containing sequences (values) and sequence names (keys)\n",
        "#Output data: nested dictionary discribing pairwise distances between sequence pairs. Note: you should include all comparisons, including to self\n",
        "#\n",
        "#####################\n",
        "\n",
        "def DistanceMatrix(sequences):\n",
        "\tmatrix = {}\n",
        "\tfor i in sequences.keys():\n",
        "\t\tif i not in matrix.keys():\n",
        "\t\t\tmatrix[i] = {}\n",
        "\t\tfor j in sequences.keys():\n",
        "\t\t\tmatrix[i][j] = JCdistance(sequences[i], sequences[j])\n",
        "\n",
        "\treturn matrix\n",
        "\n",
        "#####################\n",
        "#\n",
        "#use these sequences to test your function\n",
        "#expected result: {'seq1': {'seq1': 0.0, 'seq2': 0.2326161962278796, 'seq3': 0.3831192178244929, 'seq4': 0.2326161962278796}, 'seq2': {'seq1': 0.2326161962278796, 'seq2': 0.0, 'seq3': 0.3831192178244929, 'seq4': 0.0}, 'seq3': {'seq1': 0.3831192178244929, 'seq2': 0.3831192178244929, 'seq3': 0.0, 'seq4': 0.3831192178244929}, 'seq4': {'seq1': 0.2326161962278796, 'seq2': 0.0, 'seq3': 0.3831192178244929, 'seq4': 0.0}}\n",
        "#\n",
        "#####################\n",
        "\n",
        "SampleSeqDict = {'seq1': 'TATACTAAAA', 'seq2': 'TATACTAATT', 'seq3': 'TATAGTATTA', 'seq4': 'TATACTAATT'}\n",
        "Matrix_Problem1_3 = DistanceMatrix(SampleSeqDict)\n",
        "print(Matrix_Problem1_3)"
      ],
      "metadata": {
        "colab": {
          "base_uri": "https://localhost:8080/"
        },
        "id": "qX7R0W0N93bY",
        "outputId": "4d1908d8-63b9-42c5-a0c8-4217d8d9285a"
      },
      "execution_count": null,
      "outputs": [
        {
          "output_type": "stream",
          "name": "stdout",
          "text": [
            "{'seq1': {'seq1': 0.0, 'seq2': 0.2326161962278796, 'seq3': 0.3831192178244929, 'seq4': 0.2326161962278796}, 'seq2': {'seq1': 0.2326161962278796, 'seq2': 0.0, 'seq3': 0.3831192178244929, 'seq4': 0.0}, 'seq3': {'seq1': 0.3831192178244929, 'seq2': 0.3831192178244929, 'seq3': 0.0, 'seq4': 0.3831192178244929}, 'seq4': {'seq1': 0.2326161962278796, 'seq2': 0.0, 'seq3': 0.3831192178244929, 'seq4': 0.0}}\n"
          ]
        }
      ]
    },
    {
      "cell_type": "markdown",
      "source": [
        "Problem 1.4. Create a function to find the most similar sequences, given the nested dictionary you created in the last problem."
      ],
      "metadata": {
        "id": "D-UwDybBAVF-"
      }
    },
    {
      "cell_type": "code",
      "source": [
        "#####################\n",
        "#\n",
        "#create a definition called \"GetMinDistance\" that returns name of two sequences that has the shortest distance\n",
        "#Note: avoid self comparisons when finding the shortest distance\n",
        "#\n",
        "#####################\n",
        "\n",
        "def GetMinDistance(matrix):\n",
        "\tlowest_val = float(\"inf\")\n",
        "\tlowest_i = \"\"\n",
        "\tlowest_j = \"\"\n",
        "\n",
        "\tfor i in matrix.keys():\n",
        "\t\tfor j in matrix.keys():\n",
        "\t\t\tif (matrix[i][j] < lowest_val) and (i != j):\n",
        "\t\t\t\tlowest_val = matrix[i][j]\n",
        "\t\t\t\tlowest_i = i\n",
        "\t\t\t\tlowest_j = j\n",
        "\n",
        "\treturn lowest_i, lowest_j\n",
        "\n",
        "#####################\n",
        "#\n",
        "#use these sequences to test your function, seq1 and seq2 are most similar within the test data\n",
        "#Expected result: seq1 and seq2\n",
        "#\n",
        "#####################\n",
        "\n",
        "SampleSeqDict = {'seq1': 'TATAGTATTA', 'seq2': 'TATAGTATTA', 'seq3': 'AATAGTATTA', 'seq4': 'TATACAATTA'}\n",
        "Matrix_Problem1_4 = DistanceMatrix(SampleSeqDict)\n",
        "i, j = GetMinDistance(Matrix_Problem1_4)\n",
        "print(i,j)"
      ],
      "metadata": {
        "colab": {
          "base_uri": "https://localhost:8080/"
        },
        "id": "41ye0QOyAf4a",
        "outputId": "fdd7eb71-a7df-4567-f5f1-0dcc78b852ba"
      },
      "execution_count": null,
      "outputs": [
        {
          "output_type": "stream",
          "name": "stdout",
          "text": [
            "seq1 seq2\n"
          ]
        }
      ]
    },
    {
      "cell_type": "markdown",
      "source": [
        "Problem 2.1. Create a function to merge the closest neighbors and shrink the nested dictionary created in the previous meeting."
      ],
      "metadata": {
        "id": "A_246WdKCRqs"
      }
    },
    {
      "cell_type": "code",
      "source": [
        "#####################\n",
        "#\n",
        "#create a definition called \"ShrinkMatrix\" that will reduce a nested dictionary\n",
        "#\n",
        "#steps to complete to reduce the nested dictionary:\n",
        "#1. determine pair of labels to be grouped, based on similarity, use 'GetMinDistance' function created above\n",
        "#2. determine new label for grouped pair - Newick format - (A,B)\n",
        "#3. generate list of labels not being grouped, set of all labels - set of grouped pair\n",
        "#4. populate a new nested dictionary with known distances from original nested dictionary\n",
        "#5. add the new 'grouped taxa' to nested dictionary\n",
        "#6. populate the nested dictionary with averaged distances\n",
        "#\n",
        "#####################\n",
        "def ShrinkMatrix(matrix):\n",
        "\t#determine pair of labels to be grouped, based on similarity\n",
        "\tname1,name2 = GetMinDistance(matrix)\n",
        "\n",
        "\t#determine new label for grouped pair - Newick format\n",
        "\tnewLabel = \"({0},{1})\".format(name1, name2)\n",
        "\n",
        "\t#generate list of labels not being grouped, set of all labels - set of grouped pair\n",
        "\tnamelist = list(set(matrix.keys()).difference(set([name1, name2])))\n",
        "\n",
        "\t#fill in known distances\n",
        "\tnMatrix = {}\n",
        "\tfor first in namelist:\n",
        "\t\tif first not in nMatrix.keys():\n",
        "\t\t\tnMatrix[first] = {}\n",
        "\t\tfor second in namelist:\n",
        "\t\t\tnMatrix[first][second] = matrix[first][second]\n",
        "\n",
        "\t#add newLabel to nMatrix\n",
        "\tnMatrix[newLabel] = {}\n",
        "\n",
        "\t#fill in averaged distances\n",
        "\tfor other in namelist:\n",
        "\t\td1 = matrix[other][name1]\n",
        "\t\td2 = matrix[other][name2]\n",
        "\t\tavg = (d1 + d2) / 2.0\n",
        "\n",
        "\t\tnMatrix[newLabel][other] = avg\n",
        "\t\tnMatrix[other][newLabel] = avg\n",
        "\n",
        "\tnMatrix[newLabel][newLabel] = 0.0\n",
        "\n",
        "\treturn nMatrix\n",
        "\n",
        "\n",
        "#####################\n",
        "#\n",
        "#use these sequences to test your function,\n",
        "#Expected result: 'seq1' and 'seq2' should be grouped in the new dictionary\n",
        "#\n",
        "#####################\n",
        "\n",
        "SeqDict_Problem2_1 = {'seq1': 'TATAGTATTA', 'seq2': 'TATAGTATTA', 'seq3': 'AATAGTATTA', 'seq4': 'TATACAATTA'}\n",
        "Distances_Problem2_1 = DistanceMatrix(SeqDict_Problem2_1)\n",
        "Matrix_Problem2_1 = ShrinkMatrix(Distances_Problem2_1)\n",
        "print(Distances_Problem2_1)\n",
        "print(Matrix_Problem2_1)"
      ],
      "metadata": {
        "colab": {
          "base_uri": "https://localhost:8080/"
        },
        "id": "ob0OiRlMCbb1",
        "outputId": "b4d373e5-a8d5-42ea-92c8-90801fccd5a3"
      },
      "execution_count": null,
      "outputs": [
        {
          "output_type": "stream",
          "name": "stdout",
          "text": [
            "{'seq1': {'seq1': 0.0, 'seq2': 0.0, 'seq3': 0.10732563273050497, 'seq4': 0.2326161962278796}, 'seq2': {'seq1': 0.0, 'seq2': 0.0, 'seq3': 0.10732563273050497, 'seq4': 0.2326161962278796}, 'seq3': {'seq1': 0.10732563273050497, 'seq2': 0.10732563273050497, 'seq3': 0.0, 'seq4': 0.3831192178244929}, 'seq4': {'seq1': 0.2326161962278796, 'seq2': 0.2326161962278796, 'seq3': 0.3831192178244929, 'seq4': 0.0}}\n",
            "{'seq4': {'seq4': 0.0, 'seq3': 0.3831192178244929, '(seq1,seq2)': 0.2326161962278796}, 'seq3': {'seq4': 0.3831192178244929, 'seq3': 0.0, '(seq1,seq2)': 0.10732563273050497}, '(seq1,seq2)': {'seq4': 0.2326161962278796, 'seq3': 0.10732563273050497, '(seq1,seq2)': 0.0}}\n"
          ]
        }
      ]
    },
    {
      "cell_type": "markdown",
      "source": [
        "Problem 3.1. create a function to infer a phylogenetic tree using the distance matrix\n",
        "\n",
        "> Add blockquote\n",
        "\n"
      ],
      "metadata": {
        "id": "LrU7aNKkDTLP"
      }
    },
    {
      "cell_type": "code",
      "source": [
        "#####################\n",
        "#\n",
        "#create a definition called \"ConstructPhylogeneticTree\" that will produce a newick string when provided a distance matrix\n",
        "#\n",
        "#####################\n",
        "def ConstructPhylogeneticTree(distance_matrix): #~\n",
        "  while len(distance_matrix) >1:\n",
        "    distance_matrix = ShrinkMatrix(distance_matrix)\n",
        "  #already have key order so merge into newick format with semicolon\n",
        "  for key in distance_matrix.keys():\n",
        "    return key + \";\"\n",
        "\n",
        "\n",
        "#####################\n",
        "#\n",
        "#use these sequences to test your function\n",
        "#Expected result: (seq4,(seq3,(seq1,seq2)));\n",
        "#\n",
        "#####################\n",
        "\n",
        "SeqDictProblem3_1 = {'seq1': 'TATAGTATTA', 'seq2': 'TATAGTATTA', 'seq3': 'AATAGTATTA', 'seq4': 'TATACAATTA'}\n",
        "DistanceProblem3_1 = DistanceMatrix(SeqDictProblem3_1)\n",
        "newickStringProblem3_1 = ConstructPhylogeneticTree(DistanceProblem3_1)\n",
        "print(newickStringProblem3_1)"
      ],
      "metadata": {
        "colab": {
          "base_uri": "https://localhost:8080/"
        },
        "id": "tZrN6_LhDYUu",
        "outputId": "83f08b64-1ba2-4dd4-e3d2-b37394d22cd0"
      },
      "execution_count": null,
      "outputs": [
        {
          "output_type": "stream",
          "name": "stdout",
          "text": [
            "(seq4,(seq3,(seq1,seq2)));\n"
          ]
        }
      ]
    },
    {
      "cell_type": "markdown",
      "source": [
        "Please run box below to load phylip formated file with real sequence data"
      ],
      "metadata": {
        "id": "w3t5YyoGDk7S"
      }
    },
    {
      "cell_type": "code",
      "source": [
        "import os.path\n",
        "# Load the phylip file\n",
        "DATA_FILE_GITHUB = \"https://raw.githubusercontent.com/boydvcu/BNFO301_2023/main/NADH2_Shark.phy\"\n",
        "DEFAULT_FILE_NAME = 'NADH2_Shark.phy'\n",
        "\n",
        "fileName = DEFAULT_FILE_NAME\n",
        "#Does the file exists locally, if not get it from the github\n",
        "if not os.path.exists(fileName):\n",
        "  #Load the file from Github to the local folder\n",
        "  !wget --no-check-certificate --content-disposition $DATA_FILE_GITHUB\n",
        "\n",
        "print(\"Reading file:\", fileName)\n",
        "\n",
        "# Read in the string from the file\n",
        "with open(fileName, \"r\") as myfile:\n",
        "    file_input = myfile.read()"
      ],
      "metadata": {
        "colab": {
          "base_uri": "https://localhost:8080/"
        },
        "id": "CdLAdEtxDll5",
        "outputId": "93b02d93-b1f9-4842-f575-734ab0955ab2"
      },
      "execution_count": null,
      "outputs": [
        {
          "output_type": "stream",
          "name": "stdout",
          "text": [
            "--2024-03-04 20:15:41--  https://raw.githubusercontent.com/boydvcu/BNFO301_2023/main/NADH2_Shark.phy\n",
            "Resolving raw.githubusercontent.com (raw.githubusercontent.com)... 185.199.108.133, 185.199.109.133, 185.199.110.133, ...\n",
            "Connecting to raw.githubusercontent.com (raw.githubusercontent.com)|185.199.108.133|:443... connected.\n",
            "HTTP request sent, awaiting response... 200 OK\n",
            "Length: 32765 (32K) [text/plain]\n",
            "Saving to: ‘NADH2_Shark.phy’\n",
            "\n",
            "NADH2_Shark.phy     100%[===================>]  32.00K  --.-KB/s    in 0s      \n",
            "\n",
            "2024-03-04 20:15:41 (80.7 MB/s) - ‘NADH2_Shark.phy’ saved [32765/32765]\n",
            "\n",
            "Reading file: NADH2_Shark.phy\n"
          ]
        }
      ]
    },
    {
      "cell_type": "markdown",
      "source": [
        "Problem 3.2. Create a function to read in sequence data in phylip format.  Relaxed phylip is a commonly used file format in phylogenetics.  Here you will find sequence name - sequence pairs on each line."
      ],
      "metadata": {
        "id": "Q_a43l4VE0R0"
      }
    },
    {
      "cell_type": "code",
      "source": [
        "#####################\n",
        "#\n",
        "#create a definition called LoadPhylip that will load the real data and create a ditionary of sequence name-sequence key-pairs\n",
        "#\n",
        "#####################\n",
        "def LoadPhylip(filepath):\n",
        "  sequences = {}\n",
        "  with open(filepath, 'r') as file:\n",
        "    for line in file:\n",
        "      parts = line.strip().split()\n",
        "      name = parts[0]\n",
        "      seq = ''.join(parts[1:])\n",
        "      sequences[name] = seq\n",
        "  return sequences\n",
        "\n",
        "\n",
        "#####################\n",
        "#\n",
        "#call your definition to build the dictionary\n",
        "#\n",
        "#####################\n",
        "real_sequences = LoadPhylip(DEFAULT_FILE_NAME)\n"
      ],
      "metadata": {
        "id": "xjQJiSRgE5fR"
      },
      "execution_count": null,
      "outputs": []
    },
    {
      "cell_type": "markdown",
      "source": [
        "Problem 3.3. Use existing functions to infer a phylogenetic tree using the real data obtained from the phylip formated file."
      ],
      "metadata": {
        "id": "Q1twHtN2GX5k"
      }
    },
    {
      "cell_type": "code",
      "source": [
        "#####################\n",
        "#\n",
        "#use your functions to infer a phylogenetic tree given the data provided in the phylip file\n",
        "#\n",
        "#####################\n",
        "\n",
        "#load phylip file\n",
        "real_sequences = LoadPhylip(DEFAULT_FILE_NAME)\n",
        "\n",
        "#calculate distance matrix\n",
        "distance_matrix = DistanceMatrix(real_sequences)\n",
        "\n",
        "#construct tree\n",
        "phylogenetic_tree = ConstructPhylogeneticTree(distance_matrix)\n",
        "\n",
        "print(phylogenetic_tree)\n",
        "\n"
      ],
      "metadata": {
        "colab": {
          "base_uri": "https://localhost:8080/"
        },
        "id": "g_0mHTg2GbJ_",
        "outputId": "c7f422fd-c31d-47a1-dea0-5c85c86437ff"
      },
      "execution_count": null,
      "outputs": [
        {
          "output_type": "stream",
          "name": "stdout",
          "text": [
            "(U91426.1,((KF927984.1,(KF927894.1,JQ519166.1)),((((JQ519067.1,(JQ518747.1,(JQ519064.1,JQ518745.1))),(JQ518744.1,JQ519066.1)),((JQ518743.1,(JQ518751.1,((JQ518742.1,(JQ518741.1,JQ519168.1)),KF679782.1))),((JQ518989.1,JQ519055.1),((KF927998.1,KF927997.1),(JQ518748.1,(JQ519010.1,(JQ519048.1,(JQ519020.1,(JQ519019.1,((KF111729.1,KF928002.1),(JQ519011.1,JQ519025.1))))))))))),(KF927801.1,JQ518749.1))));\n"
          ]
        }
      ]
    },
    {
      "cell_type": "markdown",
      "source": [
        "Problem 3.4. View tree and answer questions.\n",
        "\n",
        "*View Tree*. I recomend viewing your tree using an NCBI tool here linked below.  Use the drop down menu on the right hand side to select \"Tools/Layout/Slanted Cladogram\".  On the left had side is a search box that will allow you to search tips labels.\n",
        "\n",
        "https://www.ncbi.nlm.nih.gov/projects/treeview/tv.html?appname=ncbi_tviewer&renderer=radial&openuploaddialog\n",
        "\n",
        "Alternatively, you may use R to view your tree.  The package \"APE\" will allow you to read, root, and view the tree.  \n",
        "\n",
        "You will find that the current ordering places tip U91426, so your tree does not require rooting.  \n",
        "\n",
        "The tip labels in this tree are NCBI genbank identifiers.  You can visit https://www.ncbi.nlm.nih.gov/ and look up the genus and species associated with each tip label.  \n",
        "\n",
        "\n",
        "*Question 1*. The tip labeled KF679782, represents a sample from *Rhincodon typus*.  Which tip or tips are most closely related to *Rhincodon typus* in your phylogenetic tree?  Please provide your response using the genus and species associated with the genbank identifier.  \n",
        "\n",
        "*Question 2*. Do you believe the close association between *R. typus* and its closest neighbors in your tree represent the true evolutionary relationship of these species or an erroneus association?  Please explain your answer.\n",
        "\n",
        "You can use the code space below to respond, simply use \"#\" to prevent the interpreter from compling your answer as code.\n",
        "\n"
      ],
      "metadata": {
        "id": "yhfUuMA4AM9b"
      }
    },
    {
      "cell_type": "code",
      "source": [
        "# Question 1: JQ518742.1 (Nebrius ferrugineus, tawny nurse shark), JQ518741.1 (Ginglymostoma cirratum, nurse shark),\n",
        "# and JQ519168.1 (Ginglymostoma cf. cirratum, nurse shark)\n",
        "#\n",
        "#\n",
        "# Question 2: I believe the close association between R. typus and its closest neighbors represents a true evolutionary relationship.\n",
        "# Species on phylogenetic trees are closer together the more genetically similar they are. So, N. ferrugineus and the two G.\n",
        "# cirratums shared a common ancestor with R. typus or underwent similar evolutionary processes, leading to their close\n",
        "# placement on the tree. Thus, it would not be due to an erroneus assocation.\n"
      ],
      "metadata": {
        "id": "xK4N1VjgEfYF"
      },
      "execution_count": null,
      "outputs": []
    }
  ]
}