{
  "nbformat": 4,
  "nbformat_minor": 0,
  "metadata": {
    "colab": {
      "provenance": [],
      "include_colab_link": true
    },
    "kernelspec": {
      "name": "python3",
      "display_name": "Python 3"
    },
    "language_info": {
      "name": "python"
    }
  },
  "cells": [
    {
      "cell_type": "markdown",
      "metadata": {
        "id": "view-in-github",
        "colab_type": "text"
      },
      "source": [
        "<a href=\"https://colab.research.google.com/github/shreya-arun/BNFO301_Arun_Shreya/blob/main/BNFO_Group_Project_2_Code.ipynb\" target=\"_parent\"><img src=\"https://colab.research.google.com/assets/colab-badge.svg\" alt=\"Open In Colab\"/></a>"
      ]
    },
    {
      "cell_type": "markdown",
      "source": [
        "1. Run the numpy and re modules"
      ],
      "metadata": {
        "id": "qtP_e4WUFAB6"
      }
    },
    {
      "cell_type": "code",
      "source": [
        "import re\n",
        "import os.path\n",
        "\n",
        "# Load the genbank file\n",
        "DATA_FILE_GITHUB = \"https://raw.githubusercontent.com/shreya-arun/BNFO301_Arun_Shreya/main/Genome%20assembly%20SJ5.fna?token=GHSAT0AAAAAACRVCP5BTUCULBGBG2AO5ZFEZRQM2WA\"\n",
        "\n",
        "#DEFAULT_FILE_NAME = 'Genome assembly SJ5.fna'\n",
        "\n",
        "#DEFAULT_FILE_NAME = 'Genome assembly SJ5_Sim1.fa.txt'\n",
        "\n",
        "DEFAULT_FILE_NAME = 'Genome assembly SJ5.fa.txt'\n",
        "\n",
        "fileName = DEFAULT_FILE_NAME\n",
        "#Does the file exists locally, if not get it from the github\n",
        "if not os.path.exists(fileName):\n",
        "  #Load the file from Github to the local folder\n",
        "  !wget --no-check-certificate --content-disposition $DATA_FILE_GITHUB\n",
        "\n",
        "print(\"Reading file:\", fileName)\n",
        "\n",
        "# Read in the string from the file\n",
        "with open(fileName, \"r\") as myfile:\n",
        "    gb_input = myfile.read()"
      ],
      "metadata": {
        "id": "s_4AmXjwIrrT",
        "colab": {
          "base_uri": "https://localhost:8080/",
          "height": 432
        },
        "outputId": "54fea67b-54da-409d-f25c-0b33b3d7108a"
      },
      "execution_count": 23,
      "outputs": [
        {
          "output_type": "stream",
          "name": "stdout",
          "text": [
            "--2024-04-30 03:33:28--  https://raw.githubusercontent.com/shreya-arun/BNFO301_Arun_Shreya/main/Genome%20assembly%20SJ5.fna?token=GHSAT0AAAAAACRVCP5BTUCULBGBG2AO5ZFEZRQM2WA\n",
            "Resolving raw.githubusercontent.com (raw.githubusercontent.com)... 185.199.108.133, 185.199.109.133, 185.199.110.133, ...\n",
            "Connecting to raw.githubusercontent.com (raw.githubusercontent.com)|185.199.108.133|:443... connected.\n",
            "HTTP request sent, awaiting response... 200 OK\n",
            "Length: 11883793 (11M) [text/plain]\n",
            "Saving to: ‘Genome assembly SJ5.fna?token=GHSAT0AAAAAACRVCP5BTUCULBGBG2AO5ZFEZRQM2WA’\n",
            "\n",
            "Genome assembly SJ5 100%[===================>]  11.33M  --.-KB/s    in 0.08s   \n",
            "\n",
            "2024-04-30 03:33:29 (141 MB/s) - ‘Genome assembly SJ5.fna?token=GHSAT0AAAAAACRVCP5BTUCULBGBG2AO5ZFEZRQM2WA’ saved [11883793/11883793]\n",
            "\n",
            "Reading file: Genome assembly SJ5.fa.txt\n"
          ]
        },
        {
          "output_type": "error",
          "ename": "FileNotFoundError",
          "evalue": "[Errno 2] No such file or directory: 'Genome assembly SJ5.fa.txt'",
          "traceback": [
            "\u001b[0;31m---------------------------------------------------------------------------\u001b[0m",
            "\u001b[0;31mFileNotFoundError\u001b[0m                         Traceback (most recent call last)",
            "\u001b[0;32m<ipython-input-23-4f6d0661b1b1>\u001b[0m in \u001b[0;36m<cell line: 22>\u001b[0;34m()\u001b[0m\n\u001b[1;32m     20\u001b[0m \u001b[0;34m\u001b[0m\u001b[0m\n\u001b[1;32m     21\u001b[0m \u001b[0;31m# Read in the string from the file\u001b[0m\u001b[0;34m\u001b[0m\u001b[0;34m\u001b[0m\u001b[0m\n\u001b[0;32m---> 22\u001b[0;31m \u001b[0;32mwith\u001b[0m \u001b[0mopen\u001b[0m\u001b[0;34m(\u001b[0m\u001b[0mfileName\u001b[0m\u001b[0;34m,\u001b[0m \u001b[0;34m\"r\"\u001b[0m\u001b[0;34m)\u001b[0m \u001b[0;32mas\u001b[0m \u001b[0mmyfile\u001b[0m\u001b[0;34m:\u001b[0m\u001b[0;34m\u001b[0m\u001b[0;34m\u001b[0m\u001b[0m\n\u001b[0m\u001b[1;32m     23\u001b[0m     \u001b[0mgb_input\u001b[0m \u001b[0;34m=\u001b[0m \u001b[0mmyfile\u001b[0m\u001b[0;34m.\u001b[0m\u001b[0mread\u001b[0m\u001b[0;34m(\u001b[0m\u001b[0;34m)\u001b[0m\u001b[0;34m\u001b[0m\u001b[0;34m\u001b[0m\u001b[0m\n",
            "\u001b[0;31mFileNotFoundError\u001b[0m: [Errno 2] No such file or directory: 'Genome assembly SJ5.fa.txt'"
          ]
        }
      ]
    },
    {
      "cell_type": "markdown",
      "source": [
        "Find the genome sequence of a chromosome from a eukaryotic organism that have a known number of transcription start sites that are identified and set the sequence into a variable. Create a function that finds the number of BRE sequences within the genome"
      ],
      "metadata": {
        "id": "ii8WvSbQE-0O"
      }
    },
    {
      "cell_type": "code",
      "source": [],
      "metadata": {
        "id": "5416QTvLE-Bl",
        "colab": {
          "base_uri": "https://localhost:8080/"
        },
        "outputId": "ae83906e-bf48-40a0-ae28-179c4d3a0c69"
      },
      "execution_count": 15,
      "outputs": [
        {
          "output_type": "stream",
          "name": "stdout",
          "text": [
            "Number of sequences in the file: 32\n",
            "First record:\n",
            "ID: NW_011627860.1\n",
            "Name: NW_011627860.1\n",
            "Description: NW_011627860.1 Schizosaccharomyces japonicus yFS275 unplaced genomic scaffold supercont5.1, whole genome shotgun sequence\n",
            "Number of features: 0\n",
            "Seq('AGCTTCGGTTaataaaccttaattgttatgatgcgcgcaattgttcttgaaagt...GTG')\n"
          ]
        }
      ]
    },
    {
      "cell_type": "markdown",
      "source": [
        "1. Create a function that finds the frequencies of each base found within the BRE regions that were found in the previous function"
      ],
      "metadata": {
        "id": "9MlEGHPVGMw9"
      }
    },
    {
      "cell_type": "code",
      "source": [],
      "metadata": {
        "id": "gP8-6LmSE-LP",
        "colab": {
          "base_uri": "https://localhost:8080/"
        },
        "outputId": "0862ae40-854d-4d75-fcad-f9bc4ead1162"
      },
      "execution_count": 16,
      "outputs": [
        {
          "output_type": "stream",
          "name": "stdout",
          "text": [
            "Occurrences of BREu motif within sequence: 747\n",
            "Occurrences of BREd motif within sequence: 27381\n",
            "Occurrences of BREu motif within sequence: 568\n",
            "Occurrences of BREd motif within sequence: 24968\n",
            "Occurrences of BREu motif within sequence: 506\n",
            "Occurrences of BREd motif within sequence: 19121\n",
            "Occurrences of BREu motif within sequence: 64\n",
            "Occurrences of BREd motif within sequence: 466\n",
            "Occurrences of BREu motif within sequence: 30\n",
            "Occurrences of BREd motif within sequence: 265\n",
            "Occurrences of BREu motif within sequence: 19\n",
            "Occurrences of BREd motif within sequence: 185\n",
            "Occurrences of BREu motif within sequence: 12\n",
            "Occurrences of BREd motif within sequence: 80\n",
            "Occurrences of BREu motif within sequence: 11\n",
            "Occurrences of BREd motif within sequence: 162\n",
            "Occurrences of BREu motif within sequence: 2\n",
            "Occurrences of BREd motif within sequence: 65\n",
            "Occurrences of BREu motif within sequence: 6\n",
            "Occurrences of BREd motif within sequence: 68\n",
            "Occurrences of BREu motif within sequence: 6\n",
            "Occurrences of BREd motif within sequence: 25\n",
            "Occurrences of BREu motif within sequence: 13\n",
            "Occurrences of BREd motif within sequence: 49\n",
            "Occurrences of BREu motif within sequence: 7\n",
            "Occurrences of BREd motif within sequence: 52\n",
            "Occurrences of BREu motif within sequence: 3\n",
            "Occurrences of BREd motif within sequence: 28\n",
            "Occurrences of BREu motif within sequence: 8\n",
            "Occurrences of BREd motif within sequence: 21\n",
            "Occurrences of BREu motif within sequence: 1\n",
            "Occurrences of BREd motif within sequence: 26\n",
            "Occurrences of BREu motif within sequence: 2\n",
            "Occurrences of BREd motif within sequence: 17\n",
            "Occurrences of BREu motif within sequence: 5\n",
            "Occurrences of BREd motif within sequence: 24\n",
            "Occurrences of BREu motif within sequence: 6\n",
            "Occurrences of BREd motif within sequence: 13\n",
            "Occurrences of BREu motif within sequence: 1\n",
            "Occurrences of BREd motif within sequence: 25\n",
            "Occurrences of BREu motif within sequence: 2\n",
            "Occurrences of BREd motif within sequence: 20\n",
            "Occurrences of BREu motif within sequence: 4\n",
            "Occurrences of BREd motif within sequence: 17\n",
            "Occurrences of BREu motif within sequence: 3\n",
            "Occurrences of BREd motif within sequence: 16\n",
            "Occurrences of BREu motif within sequence: 1\n",
            "Occurrences of BREd motif within sequence: 13\n",
            "Occurrences of BREu motif within sequence: 2\n",
            "Occurrences of BREd motif within sequence: 14\n",
            "Occurrences of BREu motif within sequence: 1\n",
            "Occurrences of BREd motif within sequence: 19\n",
            "Occurrences of BREu motif within sequence: 2\n",
            "Occurrences of BREd motif within sequence: 7\n",
            "Occurrences of BREu motif within sequence: 1\n",
            "Occurrences of BREd motif within sequence: 16\n",
            "Occurrences of BREu motif within sequence: 1\n",
            "Occurrences of BREd motif within sequence: 9\n",
            "Occurrences of BREu motif within sequence: 1\n",
            "Occurrences of BREd motif within sequence: 7\n",
            "Occurrences of BREu motif within sequence: 1\n",
            "Occurrences of BREd motif within sequence: 25\n",
            "Occurrences of BREu motif within sequence: 2\n",
            "Occurrences of BREd motif within sequence: 36\n"
          ]
        }
      ]
    },
    {
      "cell_type": "markdown",
      "source": [
        "2.  Create a function that finds the number of BRE sites that have a TATA site adjacent to it in the genome"
      ],
      "metadata": {
        "id": "YQ8BF6NbGesc"
      }
    },
    {
      "cell_type": "code",
      "source": [
        "def count_BRE_TATA_sites(dna_sequence):\n",
        "    bre_tata_count = 0\n",
        "    breu_index = dna_sequence.find(\"SSRCGCC\")\n",
        "    bred_index = dna_sequence.find(\"RTDKKKK\")\n",
        "    while breu_index != -1 or bred_index != -1:\n",
        "        if breu_index != -1:\n",
        "            bre_index = breu_index\n",
        "            bre_length = len(\"SSRCGCC\")\n",
        "        else:\n",
        "            bre_index = bred_index\n",
        "            bre_length = len(\"RTDKKKK\")\n",
        "        tata_index = bre_index + bre_length\n",
        "        if tata_index < len(dna_sequence) - 3 and dna_sequence[tata_index:tata_index + 4] == \"TATA\":\n",
        "            bre_tata_count += 1\n",
        "        if breu_index != -1:\n",
        "            breu_index = dna_sequence.find(\"SSRCGCC\", breu_index + 1)\n",
        "        if bred_index != -1:\n",
        "            bred_index = dna_sequence.find(\"RTDKKKK\", bred_index + 1)\n",
        "    return bre_tata_count\n"
      ],
      "metadata": {
        "id": "EpItHFzwGd5N"
      },
      "execution_count": null,
      "outputs": []
    },
    {
      "cell_type": "markdown",
      "source": [
        "2. Create a function that determines the frequenncies of the bases within the BRE and TATA regions found from the previous function"
      ],
      "metadata": {
        "id": "-IcMrLt5GtmQ"
      }
    },
    {
      "cell_type": "code",
      "source": [],
      "metadata": {
        "id": "mnP8TecoE-QM"
      },
      "execution_count": null,
      "outputs": []
    },
    {
      "cell_type": "markdown",
      "source": [
        "3. Create a function that determines how many of these sites are found upstream of the transcription start sites of the sample genome\n"
      ],
      "metadata": {
        "id": "PRHL299HHJaa"
      }
    },
    {
      "cell_type": "code",
      "source": [
        "def TranscriptSS(genome)"
      ],
      "metadata": {
        "id": "Xs0ch9VwE-VI"
      },
      "execution_count": null,
      "outputs": []
    },
    {
      "cell_type": "markdown",
      "source": [
        "3.  Create a function that simulates 100 genomes of the same length of the sample genome"
      ],
      "metadata": {
        "id": "_YnqWCjBHUvS"
      }
    },
    {
      "cell_type": "code",
      "source": [
        "def simulateGenome(genome):\n",
        "  BasefreqDict = calculateFraction(genome)\n",
        "  genomeL = len(genome)\n",
        "  States = [] #keys from 'BaseFrqDictt'\n",
        "  values = []  #values\n",
        "  for k,v in BasefreqDict.items():\n",
        "    States.append(k)\n",
        "    values.append(v)\n",
        "  SimGenome = ''.join(np.random.choice(States, genomeL, values))\n",
        "  return SimGenome"
      ],
      "metadata": {
        "id": "QPDAL8w6E-av"
      },
      "execution_count": null,
      "outputs": []
    },
    {
      "cell_type": "markdown",
      "source": [
        "4. Measure the probability of finding just the BRE site in the simulated genome."
      ],
      "metadata": {
        "id": "E4QnQ0q1HcMk"
      }
    },
    {
      "cell_type": "code",
      "source": [
        "num_iter = 100\n",
        "num_hits = 0\n",
        "for i in range(0, num_iter):\n",
        "  simulated_genome = simulateGenome(genome)\n",
        "  num_hits += get_frequency(simulated_genome)\n",
        "\n",
        "num_hits /= num_iter\n",
        "print(num_hits)"
      ],
      "metadata": {
        "id": "ytn67cpiHpec"
      },
      "execution_count": null,
      "outputs": []
    },
    {
      "cell_type": "markdown",
      "source": [
        "4. Measure the probability of finding the BRE + TATA site within the simulated genome"
      ],
      "metadata": {
        "id": "zgnBkOo5Hp0n"
      }
    },
    {
      "cell_type": "code",
      "source": [
        "bre_u = '[CG]{2}[AG]CGCC'\n",
        "bre_d = '[AG]T[AGT][GT]{4}'\n",
        "tata = 'TA[ATCG]{3}T'"
      ],
      "metadata": {
        "id": "nhj8SwZCIK4A"
      },
      "execution_count": null,
      "outputs": []
    }
  ]
}