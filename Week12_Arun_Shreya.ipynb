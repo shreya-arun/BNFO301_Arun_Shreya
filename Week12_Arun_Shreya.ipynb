{
  "nbformat": 4,
  "nbformat_minor": 0,
  "metadata": {
    "colab": {
      "provenance": [],
      "include_colab_link": true
    },
    "kernelspec": {
      "name": "python3",
      "display_name": "Python 3"
    },
    "language_info": {
      "name": "python"
    }
  },
  "cells": [
    {
      "cell_type": "markdown",
      "metadata": {
        "id": "view-in-github",
        "colab_type": "text"
      },
      "source": [
        "<a href=\"https://colab.research.google.com/github/shreya-arun/BNFO301_Arun_Shreya/blob/main/Week12_Arun_Shreya.ipynb\" target=\"_parent\"><img src=\"https://colab.research.google.com/assets/colab-badge.svg\" alt=\"Open In Colab\"/></a>"
      ]
    },
    {
      "cell_type": "markdown",
      "source": [
        "Lab 8.2. Binding sites in genomes continued.\n",
        "\n",
        "**This weekend is BNFOthon and I encourage you to participate in BNFOthon.  To faciliate your participation, I have limited this lab to two questions and extend the submission deadline to Monday.**\n",
        "\n",
        "Last week we learned how to identify a motif, the RNA polymerase binding site \"TATAAT\", within a genome, given an idealized logo.  We also learned how to simulated a genome with similar characteristics to our 'real' genome.  This week will continue the excercise by implementing our simulation within a loop and sumarizing base frequences, both in the overall genome and within the RNA polymerase bidning motif, from multiple simulations.\n",
        "\n",
        "As I noted in our lecture last week, we can apply many of the skills covered in lab 8 in motif discovery.  I encourage you to think about this when working on group project 2, as many common motifs were originally identifed using similar tools.\n",
        "\n",
        "After we complete the two questions below, there will be time for each group to meet with the instructor and recieve personalized feedback on your project 2 progress.  Please come to lab ready with questions or elements where you need help!\n",
        "\n",
        "This lab is worth 10 points.\n",
        "\n",
        "Question 1. 4 points.\n",
        "\n",
        "Question 2. 6 points.\n"
      ],
      "metadata": {
        "id": "mkwP0IXdsMaQ"
      }
    },
    {
      "cell_type": "markdown",
      "source": [
        "Please run this box to load data and definitions from last week"
      ],
      "metadata": {
        "id": "_gtDnjX6sScm"
      }
    },
    {
      "cell_type": "code",
      "execution_count": 2,
      "metadata": {
        "id": "dlKV2tlOrHIi"
      },
      "outputs": [],
      "source": [
        "import numpy as np\n",
        "import re\n",
        "ProvidedSequence = \"TATAATGTCAGTCAGTCAGTCAGTCATATAATGTCAGTCAGTCAGTCAGTCATATAATGTCAGTCAGTCAGTCAGTCATATAATGTCAGTCAGTCAGTCAGTCATATAATGTCAGTCAGTCAGTCAGTCATATAATGTCAGTCAGTCAGTCAGTCATATAATGTCAGTCAGTCAGTCAGTCATATAATGTCAGTCAGTCAGTCAGTCATATAATGTCAGTCAGTCAGTCAGTCATATAATGTCAGTCAGTCAGTCAGTCATAGGGTGTCAGTCAGTCAGTCAGTCATAGGGTGTCAGTCAGTCAGTCAGTCATACCCTGTCAGTCAGTCAGTCAGTCATACCCTGTCAGTCAGTCAGTCAGTCATAATTTGTCAGTCAGTCAGTCAGTCATAATTTGTCAGTCAGTCAGTCAGTCA\"\n",
        "\n",
        "def genomeBaseFreq(genome):\n",
        "  base_counts = {'A':0,'T':0,'C':0,'G':0}\n",
        "  genome_length = len(genome)\n",
        "  for base in genome:\n",
        "    if base in base_counts:\n",
        "      base_counts[base] += 1\n",
        "  fractions = {base: base_counts[base]/genome_length for base in base_counts}\n",
        "  return fractions\n",
        "\n",
        "def simulateGenome(genome):\n",
        "  baseDict = genomeBaseFreq(genome)\n",
        "  genomeLength = len(genome)\n",
        "  states = []\n",
        "  baseFreq = []\n",
        "  for k,v in baseDict.items():\n",
        "    states.append(k)\n",
        "    baseFreq.append(v)\n",
        "  draft_seq = np.random.choice(states, genomeLength, p=baseFreq)\n",
        "  return ''.join(draft_seq)\n"
      ]
    },
    {
      "cell_type": "markdown",
      "source": [
        "Problem 1. Multiple simulations.\n",
        "\n",
        "Create a definition to implement the \"simulateGenome\" function and generate 100 simulated sequences.  Your definition should print the average base frequencies of A, T, C, and G from all siulated sequences."
      ],
      "metadata": {
        "id": "uo7uPmaSsP4Y"
      }
    },
    {
      "cell_type": "code",
      "source": [
        "#############################################\n",
        "#\n",
        "# create a definition to implement the definition \"simGenome\" and generate 100 simulated sequences\n",
        "# next, calculate and print to screen the mean base frequencies\n",
        "#\n",
        "#############################################\n",
        "\n",
        "def multipleSims(observedgenome):\n",
        "    base_counts_sum = {'A': 0, 'T': 0, 'C': 0, 'G': 0}\n",
        "    total_bases = 0\n",
        "\n",
        "    for i in range(100):\n",
        "        for base in simulateGenome(observedgenome):\n",
        "            base_counts_sum[base] += 1\n",
        "            total_bases += 1\n",
        "\n",
        "    m_list = []\n",
        "    for count in base_counts_sum.values():\n",
        "        m_list.append(count / total_bases)\n",
        "\n",
        "    return m_list\n",
        "########################################\n",
        "#\n",
        "# test your definition\n",
        "# note: this is a simulation, your results may differ from the real data or the answer in the key\n",
        "#\n",
        "#########################################\n",
        "\n",
        "multipleSims(ProvidedSequence)"
      ],
      "metadata": {
        "colab": {
          "base_uri": "https://localhost:8080/"
        },
        "id": "2AT4QOlltkyR",
        "outputId": "054ff7df-8bbe-4633-cfc2-4040e87ff2c7"
      },
      "execution_count": 9,
      "outputs": [
        {
          "output_type": "execute_result",
          "data": {
            "text/plain": [
              "[0.2868028846153846,\n",
              " 0.30420673076923077,\n",
              " 0.20454326923076924,\n",
              " 0.20444711538461538]"
            ]
          },
          "metadata": {},
          "execution_count": 9
        }
      ]
    },
    {
      "cell_type": "markdown",
      "source": [
        "Problem 2. Examine the motif within multiple simulations.\n",
        "\n",
        "Create a definition to implement the \"simulateGenome\" function and generate 100 simulated sequences.  Within each simulation identify the RNA polymerase binding motif.  Your definition print to screen to elements.  First, the mean number of motifs discovered in the simulated genomes.  Second, the mean base frequencies at each index in the motif."
      ],
      "metadata": {
        "id": "WyiCSauiwsrQ"
      }
    },
    {
      "cell_type": "code",
      "source": [
        "#############################################\n",
        "#\n",
        "# create a definition to implement the definition \"simulateGenome\" and generate 100 simulated sequences,\n",
        "# next, calculate and print to screen the mean number of motifs detected in the simulations\n",
        "# next, calculate and print to screen the mean base frequency for each index in the pribnow box\n",
        "# recall your pattern for the RNA polymerase binding site is 'TA[TACG]{3}T'\n",
        "#\n",
        "#############################################\n",
        "\n",
        "def simSite(observedgenome):\n",
        "    motifs_count_sum = 0\n",
        "    base_counts = [{'A': 0, 'T': 0, 'C': 0, 'G': 0} for _ in range(6)]  # Initialize counts for each position in the Pribnow box\n",
        "\n",
        "    for i in range(100):\n",
        "        simulated_sequence = simulateGenome(observedgenome)\n",
        "\n",
        "        # Identify motifs in the simulated sequence\n",
        "        motifs = re.findall(r'TA[TACG]{3}T', simulated_sequence)\n",
        "        motifs_count_sum += len(motifs)\n",
        "\n",
        "        # Count base frequency in each motif\n",
        "        for motif in motifs:\n",
        "            for j in range(6):\n",
        "                base_at_index = motif[j]\n",
        "                base_counts[j][base_at_index] += 1\n",
        "\n",
        "    mean_motifs_count = motifs_count_sum / 100\n",
        "    print(\"Mean number of motifs discovered:\", mean_motifs_count)\n",
        "\n",
        "    print(\"Mean base frequencies at each index in the motif:\")\n",
        "    index = 0\n",
        "    for counts in base_counts:\n",
        "        print(index)\n",
        "        index += 1\n",
        "        for base in 'ATCG':\n",
        "            freq = counts[base] / sum(counts.values())\n",
        "            print(f\"{base} {freq}\", end=\"  \")\n",
        "            print()\n",
        "\n",
        "########################################\n",
        "#\n",
        "# test your definition\n",
        "# note: this is a simulation, your results may differ from the real data or the answer in the key\n",
        "#\n",
        "#########################################\n",
        "\n",
        "simSite(ProvidedSequence)"
      ],
      "metadata": {
        "colab": {
          "base_uri": "https://localhost:8080/"
        },
        "id": "98Fl16lFyNw1",
        "outputId": "603218f3-5002-4798-bafb-090be0f460e1"
      },
      "execution_count": 18,
      "outputs": [
        {
          "output_type": "stream",
          "name": "stdout",
          "text": [
            "Mean number of motifs discovered: 9.11\n",
            "Mean base frequencies at each index in the motif:\n",
            "0\n",
            "A 0.0  \n",
            "T 1.0  \n",
            "C 0.0  \n",
            "G 0.0  \n",
            "1\n",
            "A 1.0  \n",
            "T 0.0  \n",
            "C 0.0  \n",
            "G 0.0  \n",
            "2\n",
            "A 0.3018660812294182  \n",
            "T 0.2854006586169045  \n",
            "C 0.1800219538968167  \n",
            "G 0.2327113062568606  \n",
            "3\n",
            "A 0.305159165751921  \n",
            "T 0.278814489571899  \n",
            "C 0.1986827661909989  \n",
            "G 0.21734357848518113  \n",
            "4\n",
            "A 0.29088913282107576  \n",
            "T 0.300768386388584  \n",
            "C 0.2074643249176729  \n",
            "G 0.20087815587266739  \n",
            "5\n",
            "A 0.0  \n",
            "T 1.0  \n",
            "C 0.0  \n",
            "G 0.0  \n"
          ]
        }
      ]
    }
  ]
}